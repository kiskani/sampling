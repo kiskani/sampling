{
 "cells": [
  {
   "cell_type": "markdown",
   "metadata": {},
   "source": [
    "# Sampling from probability distributions "
   ]
  },
  {
   "cell_type": "code",
   "execution_count": 1,
   "metadata": {},
   "outputs": [],
   "source": [
    "import numpy as np\n",
    "from collections import defaultdict\n",
    "from math import factorial as fac\n",
    "import matplotlib.pyplot as plt\n",
    "import math\n",
    "import copy"
   ]
  },
  {
   "cell_type": "markdown",
   "metadata": {},
   "source": [
    "### Sampling from Binomial distribution\n",
    "\n",
    "Using uniform sampling in Numpy"
   ]
  },
  {
   "cell_type": "code",
   "execution_count": 2,
   "metadata": {},
   "outputs": [],
   "source": [
    "def sample_binom_using_random(n, p):\n",
    "    return np.sum(np.random.uniform(0, 1, n) > 1 - p)"
   ]
  },
  {
   "cell_type": "markdown",
   "metadata": {},
   "source": [
    "Using choice function in Numpy"
   ]
  },
  {
   "cell_type": "code",
   "execution_count": 3,
   "metadata": {},
   "outputs": [],
   "source": [
    "def sample_binom_using_choice(n, p):\n",
    "    return np.sum(np.random.choice(np.arange(0, 2), n, p=[1-p, p]))"
   ]
  },
  {
   "cell_type": "markdown",
   "metadata": {},
   "source": [
    "Tools to verify our sampling methods "
   ]
  },
  {
   "cell_type": "code",
   "execution_count": 4,
   "metadata": {},
   "outputs": [],
   "source": [
    "def coeff_binom(n,p,k):\n",
    "    return (fac(n)/(fac(k)*fac(n-k)))*(p**k)*((1-p)**(n-k))"
   ]
  },
  {
   "cell_type": "code",
   "execution_count": 5,
   "metadata": {},
   "outputs": [],
   "source": [
    "def simulate_binom(n,p, iters, func):\n",
    "    a = defaultdict(int)\n",
    "    for i in range(iters):\n",
    "        a[func(n, p)] += 1\n",
    "    return [a[i]/iters for i in range(n)]"
   ]
  },
  {
   "cell_type": "code",
   "execution_count": 6,
   "metadata": {},
   "outputs": [],
   "source": [
    "def kl_divergence(p1, p2):\n",
    "    assert len(p1)==len(p2), \"Probability distributions should have the same length\"\n",
    "    n = len(p1)\n",
    "    s = 0 \n",
    "    for i in range(n):\n",
    "        if p1[i] < 0 or p2[i] < 0:\n",
    "            print(\"Invalid probability distributions!\")\n",
    "            return \n",
    "        if p1[i] > 0 and p2[i] == 0:\n",
    "            return float(\"inf\")\n",
    "        if p1[i] > 0 and p2[i] > 0:\n",
    "            s += p1[i]*(math.log(p1[i]) - math.log(p2[i]))\n",
    "    return s"
   ]
  },
  {
   "cell_type": "code",
   "execution_count": 7,
   "metadata": {},
   "outputs": [],
   "source": [
    "def compute_kl_distances(iterVec, n, p, func):\n",
    "    output = []\n",
    "    for iters in iterVec:\n",
    "        a = simulate_binom(n, p, iters, func)\n",
    "        b = [coeff_binom(n,p,k) for k in range(n)]\n",
    "        output.append(kl_divergence(a, b))\n",
    "    return output "
   ]
  },
  {
   "cell_type": "markdown",
   "metadata": {},
   "source": [
    "Verifying that the KL divergence between the sampled distributions and the actual distribution goes to 0"
   ]
  },
  {
   "cell_type": "code",
   "execution_count": 8,
   "metadata": {},
   "outputs": [
    {
     "data": {
      "text/plain": [
       "[<matplotlib.lines.Line2D at 0x11c273be0>]"
      ]
     },
     "execution_count": 8,
     "metadata": {},
     "output_type": "execute_result"
    },
    {
     "data": {
      "image/png": "[encoded data removed]",
      "text/plain": [
       "<Figure size 720x720 with 2 Axes>"
      ]
     },
     "metadata": {
      "needs_background": "light"
     },
     "output_type": "display_data"
    }
   ],
   "source": [
    "iterVec = list(range(100,1000,100))+list(range(1000, 20000, 1000))\n",
    "n = 10 \n",
    "p = 0.2 \n",
    "f, (ax1, ax2) = plt.subplots(2,1,figsize=(10,10))\n",
    "kls1 = compute_kl_distances(iterVec, n, p, sample_binom_using_random)\n",
    "ax1.plot(iterVec, kls1)\n",
    "kls2 = compute_kl_distances(iterVec, n, p, sample_binom_using_choice)\n",
    "ax2.plot(iterVec, kls2)"
   ]
  },
  {
   "cell_type": "markdown",
   "metadata": {},
   "source": [
    "### Sampling Multinomial distribution\n",
    "\n",
    "###### Using binomial sampling \n",
    "We can sample from a multinomial distribution using a binomial distribution. For proof of correctness, please see the following link.\n",
    "https://stats.stackexchange.com/questions/122907/can-multinomial-distribution-be-simulated-by-a-sequence-of-binomial-draws/419399#419399"
   ]
  },
  {
   "cell_type": "code",
   "execution_count": 9,
   "metadata": {},
   "outputs": [],
   "source": [
    "def sample_multinom_using_binom(pVec, k):\n",
    "    n = len(pVec)\n",
    "    if n==1:\n",
    "        return int(np.random.uniform(0, 1, 1) > 1 - pVec[0])\n",
    "    k1 = sample_binom_using_random(k, pVec[0])\n",
    "    if n==2:\n",
    "        return (k1, k-k1) \n",
    "    else:\n",
    "        return (k1, *sample_multinom_using_binom([x/(1-pVec[0]) for x in pVec[1:]], k-k1))"
   ]
  },
  {
   "cell_type": "markdown",
   "metadata": {},
   "source": [
    "###### Using Numpy multinomial\n",
    "You can simply sample from a multinomial distribution in Numpy using multinomial function as follows"
   ]
  },
  {
   "cell_type": "code",
   "execution_count": 10,
   "metadata": {},
   "outputs": [],
   "source": [
    "def sample_multinom_numpy_builtin(pVec, k):\n",
    "    return list(np.random.multinomial(k, pVec, size=1)[0])"
   ]
  },
  {
   "cell_type": "markdown",
   "metadata": {},
   "source": [
    "Utility tool to test first moment correctness of our sampling methods. This tool samples $n$ times and computes the average number of samples drawn. Since for multinomial distribution we have $\\mathbb{E}[x_i] = n p_i$, this way, we can check whether the average sample values equals $np_i$. If not, the sampling method is wrong. "
   ]
  },
  {
   "cell_type": "code",
   "execution_count": 11,
   "metadata": {},
   "outputs": [],
   "source": [
    "def compute_average_sampled_value(iters, func, args, kwargs):\n",
    "    samples = []\n",
    "    for _ in range(iters):\n",
    "        samples.append(func(*args, **kwargs))\n",
    "    return samples, np.mean(samples, axis = 0)"
   ]
  },
  {
   "cell_type": "code",
   "execution_count": 12,
   "metadata": {},
   "outputs": [
    {
     "name": "stdout",
     "output_type": "stream",
     "text": [
      "[0.099886 0.099972 0.399512 0.099563 0.301067]\n",
      "[0.099792 0.100213 0.399944 0.100018 0.300033]\n"
     ]
    }
   ],
   "source": [
    "pVec = [0.1, 0.1, 0.4, 0.1, 0.3]\n",
    "k = 100\n",
    "iterations = 10000\n",
    "_, mean_builtin = compute_average_sampled_value(iterations, sample_multinom_numpy_builtin, (pVec, k), {})\n",
    "print(mean_builtin/k)\n",
    "_, mean_using_binom = compute_average_sampled_value(iterations, sample_multinom_using_binom, (pVec, k), {})\n",
    "print(mean_using_binom/k)"
   ]
  },
  {
   "cell_type": "markdown",
   "metadata": {},
   "source": [
    "### Sampling from Truncated Multinomial distribution\n",
    "\n",
    "For a much more insteresting problem consider the truncated multinomial distribution in which we can only accept samples $\\vec a \\le \\vec x \\le \\vec b$. In other words,\n",
    "\n",
    "$$\\vec x \\sim \\frac{1}{Z} \\frac{p_1^{x_1} \\dots p_k^{x_k}}{x_1!\\dots x_k!}$$\n",
    "\n",
    "where $Z$ is a normalization constant, $\\vec x$ has $n$ positive components, and $\\sum x_i = k$ where we only consider values of $\\vec{x}$ in the range $\\vec a \\le \\vec x \\le \\vec b$. How can we sample this truncated multinomial distribution? Please see the following link for a detailed explanation of this problem\n",
    "https://stats.stackexchange.com/questions/220919/how-to-sample-a-truncated-multinomial-distribution\n",
    "In this link, three different sampling algorithms are studied. We will solve the problem using these algorithms in the following."
   ]
  },
  {
   "cell_type": "markdown",
   "metadata": {},
   "source": [
    "###### 1. Accept-Reject algorithm"
   ]
  },
  {
   "cell_type": "code",
   "execution_count": 13,
   "metadata": {},
   "outputs": [],
   "source": [
    "def truncated_multinomial_accept_reject(pVec, k, a, b):\n",
    "    x = list(np.random.multinomial(k, pVec, size=1)[0])\n",
    "    h = [x[i] >= a[i] and x[i] <= b[i] for i in range(len(x))]\n",
    "    while sum(h) < len(h):\n",
    "        x = list(np.random.multinomial(k, pVec, size=1)[0])\n",
    "        h = [x[i] >= a[i] and x[i] <= b[i] for i in range(len(x))]\n",
    "    return x"
   ]
  },
  {
   "cell_type": "code",
   "execution_count": 14,
   "metadata": {},
   "outputs": [
    {
     "name": "stdout",
     "output_type": "stream",
     "text": [
      "[0.12368 0.21506 0.27028 0.21592 0.17506]\n"
     ]
    }
   ],
   "source": [
    "pVec = [0.1, 0.1, 0.4, 0.1, 0.3]\n",
    "k = 10\n",
    "iterations = 10000\n",
    "a = [1, 2, 2, 2, 1]\n",
    "b = [4, 5, 5, 5, 7]\n",
    "_, mean_accept_reject = compute_average_sampled_value(iterations, truncated_multinomial_accept_reject,\\\n",
    "                                                      (pVec, k, a, b), {})\n",
    "print(mean_accept_reject/k)"
   ]
  },
  {
   "cell_type": "markdown",
   "metadata": {},
   "source": [
    "Notice that in this case, it is not easy to check the first moment correctness. However, we cd still test the algorithm for the trivial case. "
   ]
  },
  {
   "cell_type": "code",
   "execution_count": 15,
   "metadata": {},
   "outputs": [
    {
     "name": "stdout",
     "output_type": "stream",
     "text": [
      "[0.09963 0.10104 0.39899 0.10065 0.29969]\n"
     ]
    }
   ],
   "source": [
    "a = [0, 0, 0, 0, 0]\n",
    "b = [k, k, k, k, k]\n",
    "_, mean_accept_reject = compute_average_sampled_value(iterations, truncated_multinomial_accept_reject,\\\n",
    "                                                      (pVec, k, a, b), {})\n",
    "print(mean_accept_reject/k)"
   ]
  },
  {
   "cell_type": "markdown",
   "metadata": {},
   "source": [
    "###### 2. Direct simulation"
   ]
  },
  {
   "cell_type": "code",
   "execution_count": 16,
   "metadata": {},
   "outputs": [],
   "source": [
    "def truncated_multinomial_direct_sampling_from_urn(pVec, k, a, b):\n",
    "    n = len(pVec)\n",
    "    while True:\n",
    "        pp = pVec \n",
    "        x = [0 for _ in range(n)] \n",
    "        while True:\n",
    "            if sum([x[h] < b[h] for h in range(n)])==1:\n",
    "                indx = [h for h in range(n) if x[h] < b[h]][0]\n",
    "                x[indx] = k - sum(x)\n",
    "                break\n",
    "            i = np.random.choice(n, 1, p=pp)[0]\n",
    "            x[i] += 1\n",
    "            if x[i] == b[i]:\n",
    "                pp = [pp[j]/(1-pp[i]) for j in range(n)]\n",
    "                pp[i] = 0 \n",
    "            if sum(x) == k:\n",
    "                break  \n",
    "        if sum([x[h] < a[h] for h in range(n)]) == 0:\n",
    "            break \n",
    "    return x"
   ]
  },
  {
   "cell_type": "code",
   "execution_count": 17,
   "metadata": {},
   "outputs": [
    {
     "name": "stdout",
     "output_type": "stream",
     "text": [
      "[0.09969 0.10106 0.40275 0.09738 0.29912]\n"
     ]
    }
   ],
   "source": [
    "_, mean_direct_simulation = compute_average_sampled_value(iterations, truncated_multinomial_direct_sampling_from_urn,\\\n",
    "                                                      (pVec, k, a, b), {})\n",
    "print(mean_direct_simulation/k)"
   ]
  },
  {
   "cell_type": "markdown",
   "metadata": {},
   "source": [
    "###### 3. Metropolis algorithm"
   ]
  },
  {
   "cell_type": "markdown",
   "metadata": {},
   "source": [
    "Metropolos-Hastings is the most efficient approach. The algorithm is initialized by using direct simulation \n",
    "(but can be initialized differently) to draw first sample $𝑋_1$. In following steps iteratively: proposal value $𝑦=𝑞(𝑋_{𝑖−1})$ is accepted as $𝑋_𝑖$ with probability $𝑓(𝑦)/𝑓(𝑋_{𝑖−1})$, otherwise $𝑋_{𝑖−1}$ value is taken in it's place, where $𝑓(𝑥)∝∏_{𝑖} 𝑝_i^{𝑥_𝑖}/𝑥_𝑖!$. As a proposal, function $𝑞$ that takes $𝑋_{𝑖−1}$ value and randomly flips from 0 to step number of cases and moves it to another category is used."
   ]
  },
  {
   "cell_type": "code",
   "execution_count": 18,
   "metadata": {},
   "outputs": [],
   "source": [
    "def compute_log_function(x, pVec, a, b):\n",
    "    x_less_a = sum([x[i] < a[i] for i in range(len(pVec))])\n",
    "    x_more_a = sum([x[i] > b[i] for i in range(len(pVec))])\n",
    "    if x_less_a or x_more_a or sum(x) != k:\n",
    "        return float(\"-inf\")\n",
    "    return np.sum(np.log(pVec)*x - np.array([math.lgamma(h+1) for h in x]))"
   ]
  },
  {
   "cell_type": "code",
   "execution_count": 19,
   "metadata": {},
   "outputs": [],
   "source": [
    "def sampling_distribution(original, pVec, a, b, step):\n",
    "    x = copy.deepcopy(original) \n",
    "    idx = np.random.choice(len(x), 2, replace=False)\n",
    "    u = np.random.choice(step, 1)[0]\n",
    "    x[idx[0]] -= u\n",
    "    x[idx[1]] += u\n",
    "    x_less_a = sum([x[i] < a[i] for i in range(len(pVec))])\n",
    "    x_more_a = sum([x[i] > b[i] for i in range(len(pVec))])\n",
    "    while x_less_a or x_more_a or sum(x) != k:\n",
    "        x = copy.deepcopy(original)  \n",
    "        idx = np.random.choice(len(x), 2, replace=False)\n",
    "        u = np.random.choice(step, 1)[0]\n",
    "        x[idx[0]] -= u\n",
    "        x[idx[1]] += u\n",
    "        x_less_a = sum([x[i] < a[i] for i in range(len(pVec))])\n",
    "        x_more_a = sum([x[i] > b[i] for i in range(len(pVec))])\n",
    "    return x "
   ]
  },
  {
   "cell_type": "code",
   "execution_count": 20,
   "metadata": {},
   "outputs": [],
   "source": [
    "def sample_truncated_multinomial_metropolis_hasting(pVec, k, a, b, iters, step=1):\n",
    "    x = truncated_multinomial_accept_reject(pVec, k, a, b)\n",
    "    step = max(2, step)\n",
    "    ar = 0 \n",
    "    for i in range(iters):\n",
    "        proposal = sampling_distribution(x, pVec, a, b, step)\n",
    "        if compute_log_function(proposal, pVec, a, b) == float(\"-inf\"):\n",
    "            continue             \n",
    "        prob = np.exp(np.array(compute_log_function(proposal, pVec, a, b)) -\\\n",
    "                      np.array(compute_log_function(x, pVec, a, b)))\n",
    "        if np.random.uniform() < prob:\n",
    "            x = proposal \n",
    "            ar += 1 \n",
    "    acceptance_rate = ar/iters\n",
    "    #print('acceptance rate :', acceptance_rate)\n",
    "    step -= 1 \n",
    "    return x"
   ]
  },
  {
   "cell_type": "code",
   "execution_count": 21,
   "metadata": {},
   "outputs": [
    {
     "name": "stdout",
     "output_type": "stream",
     "text": [
      "[0.108 0.089 0.4   0.112 0.291]\n"
     ]
    }
   ],
   "source": [
    "iterations = 100\n",
    "metropolis_iters = 1000\n",
    "_, mean_metropolis = compute_average_sampled_value(iterations, sample_truncated_multinomial_metropolis_hasting,\\\n",
    "                                                      (pVec, k, a, b, metropolis_iters), {'step': 1})\n",
    "print(mean_metropolis/k)"
   ]
  },
  {
   "cell_type": "code",
   "execution_count": null,
   "metadata": {},
   "outputs": [],
   "source": []
  }
 ],
 "metadata": {
  "kernelspec": {
   "display_name": "Python 3",
   "language": "python",
   "name": "python3"
  },
  "language_info": {
   "codemirror_mode": {
    "name": "ipython",
    "version": 3
   },
   "file_extension": ".py",
   "mimetype": "text/x-python",
   "name": "python",
   "nbconvert_exporter": "python",
   "pygments_lexer": "ipython3",
   "version": "3.7.1"
  }
 },
 "nbformat": 4,
 "nbformat_minor": 2
}
